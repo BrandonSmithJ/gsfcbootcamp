{
 "cells": [
  {
   "cell_type": "markdown",
   "metadata": {},
   "source": [
    "![NASA](http://www.nasa.gov/sites/all/themes/custom/nasatwo/images/nasa-logo.svg)\n",
    "\n",
    "---\n",
    "\n",
    "# The Future\n",
    "\n",
    "### GSFC Intermediate/Advanced Python Bootcamp 2017\n",
    "\n",
    "#### Brent Smith\n",
    "\n",
    "---"
   ]
  },
  {
   "cell_type": "markdown",
   "metadata": {
    "collapsed": true
   },
   "source": [
    "# Compatibility\n",
    "\n",
    "---\n",
    "\n",
    "One of the biggest debates within the Python community is choosing Python 2.x or Python 3.x. From the 2016 PyCon keynote from Guido van Rossum ([link](http://youtu.be/YgtL4S7Hrwo)), Python 2.7 was announced to be the last of the 2.x series.\n",
    "\n",
    "Even more evidence: [http://pythonclock.org](https://pythonclock.org)"
   ]
  },
  {
   "cell_type": "markdown",
   "metadata": {},
   "source": [
    "### Got Python 2?\n",
    "\n",
    "---\n",
    "\n",
    "If you have code that is still in Python 2.x, there is a very useful guide to help you transition your code.\n",
    "\n",
    "Details:\n",
    "\n",
    "* [Python-Future](http://python-future.org)\n",
    "* [Six: Python 2 and 3 Compatibility Library](http://pythonhosted.org/six/)"
   ]
  },
  {
   "cell_type": "markdown",
   "metadata": {},
   "source": [
    "### Quick Synopsis\n",
    "\n",
    "---\n",
    "\n",
    "* `print` is a function, not a statement\n",
    "  * Python 2.x: ```print 'Hello',```\n",
    "  * Python 3.x: ```print('Hello', end='')```\n",
    "* Strings ([unicode link](http://docs.python.org/3/howto/unicode.html)):\n",
    "  * Python 2.x: str has no encoding (not utf-8)\n",
    "  * Python 3.x: str is unicode\n",
    "* Division:\n",
    "  * Python 2.x: 3/2 = 1\n",
    "  * Python 3.x: 3/2 = 1.5\n",
    "* Others: exceptions, class definitions, etc."
   ]
  },
  {
   "cell_type": "markdown",
   "metadata": {},
   "source": [
    "### Python 2/3 Compatible Code Example"
   ]
  },
  {
   "cell_type": "code",
   "execution_count": null,
   "metadata": {},
   "outputs": [],
   "source": [
    "from __future__ import print_function\n",
    "from __future__ import division\n",
    "\n",
    "print(\n",
    "    'A new print function using Python 2.',\n",
    "    end='...err {result}.'.format(result=3/2)\n",
    ")"
   ]
  },
  {
   "cell_type": "markdown",
   "metadata": {},
   "source": [
    "[Formatting Strings Reference](http://pyformat.info)"
   ]
  },
  {
   "cell_type": "markdown",
   "metadata": {},
   "source": [
    "# New Packages\n",
    "\n",
    "---\n",
    "\n",
    "Included is a small showcase of 3 new packages (to me) in Python for scientific/engineering applications:\n",
    "\n",
    "* [bokeh](http://bokeh.pydata.org/en/latest/)\n",
    "* [xarray](http://xarray.pydata.org/en/stable/)\n",
    "* [dask](http://dask.pydata.org/en/latest/)"
   ]
  },
  {
   "cell_type": "markdown",
   "metadata": {},
   "source": [
    "### Bokeh\n",
    "\n",
    "---\n",
    "\n",
    "Visualization package that gives more interactivity."
   ]
  },
  {
   "cell_type": "code",
   "execution_count": null,
   "metadata": {},
   "outputs": [],
   "source": [
    "import bokeh\n",
    "bokeh.sampledata.download()"
   ]
  },
  {
   "cell_type": "code",
   "execution_count": null,
   "metadata": {},
   "outputs": [],
   "source": [
    "from bokeh.io import show\n",
    "from bokeh.models import (\n",
    "    ColumnDataSource,\n",
    "    HoverTool,\n",
    "    LogColorMapper\n",
    ")\n",
    "from bokeh.palettes import Viridis6 as palette\n",
    "from bokeh.plotting import figure, output_notebook\n",
    "\n",
    "from bokeh.sampledata.us_counties import data as counties\n",
    "from bokeh.sampledata.unemployment import data as unemployment\n",
    "\n",
    "output_notebook()\n",
    "\n",
    "palette.reverse()\n",
    "\n",
    "counties = {\n",
    "    code: county for code, county in counties.items() if county[\"state\"] == \"tx\"\n",
    "}\n",
    "\n",
    "county_xs = [county[\"lons\"] for county in counties.values()]\n",
    "county_ys = [county[\"lats\"] for county in counties.values()]\n",
    "\n",
    "county_names = [county['name'] for county in counties.values()]\n",
    "county_rates = [unemployment[county_id] for county_id in counties]\n",
    "color_mapper = LogColorMapper(palette=palette)\n",
    "\n",
    "source = ColumnDataSource(data=dict(\n",
    "    x=county_xs,\n",
    "    y=county_ys,\n",
    "    name=county_names,\n",
    "    rate=county_rates,\n",
    "))\n",
    "\n",
    "TOOLS = \"pan,wheel_zoom,reset,hover,save\"\n",
    "\n",
    "p = figure(\n",
    "    title=\"Texas Unemployment, 2009\", tools=TOOLS,\n",
    "    x_axis_location=None, y_axis_location=None\n",
    ")\n",
    "p.grid.grid_line_color = None\n",
    "\n",
    "p.patches('x', 'y', source=source,\n",
    "          fill_color={'field': 'rate', 'transform': color_mapper},\n",
    "          fill_alpha=0.7, line_color=\"white\", line_width=0.5)\n",
    "\n",
    "hover = p.select_one(HoverTool)\n",
    "hover.point_policy = \"follow_mouse\"\n",
    "hover.tooltips = [\n",
    "    (\"Name\", \"@name\"),\n",
    "    (\"Unemployment rate)\", \"@rate%\"),\n",
    "    (\"(Long, Lat)\", \"($x, $y)\"),\n",
    "]\n",
    "\n",
    "show(p)"
   ]
  },
  {
   "cell_type": "markdown",
   "metadata": {},
   "source": [
    "### xarray\n",
    "\n",
    "---\n",
    "\n",
    "Brings the power of Pandas to N-dimensional variants of the data structure."
   ]
  },
  {
   "cell_type": "code",
   "execution_count": null,
   "metadata": {},
   "outputs": [],
   "source": [
    "import numpy as np\n",
    "import pandas as pd\n",
    "import xarray as xr\n",
    "\n",
    "xr.DataArray(np.random.randn(2, 3))\n"
   ]
  },
  {
   "cell_type": "code",
   "execution_count": null,
   "metadata": {},
   "outputs": [],
   "source": [
    "data = xr.DataArray(np.random.randn(2, 3), coords={'x': ['a', 'b']}, dims=('x', 'y'))"
   ]
  },
  {
   "cell_type": "code",
   "execution_count": null,
   "metadata": {},
   "outputs": [],
   "source": [
    "data"
   ]
  },
  {
   "cell_type": "markdown",
   "metadata": {},
   "source": [
    "### dask\n",
    "\n",
    "---\n",
    "\n",
    "> Dask is a flexible parallel computing library for analytic computing.\n",
    "\n",
    "Two parts:\n",
    "* task scheduling\n",
    "* \"big data\" handler"
   ]
  },
  {
   "cell_type": "code",
   "execution_count": null,
   "metadata": {
    "collapsed": true
   },
   "outputs": [],
   "source": [
    "# from laptop to big machines\n",
    "# task scheduler\n",
    "# visualizer"
   ]
  }
 ],
 "metadata": {
  "kernelspec": {
   "display_name": "Python 3",
   "language": "python",
   "name": "python3"
  },
  "language_info": {
   "codemirror_mode": {
    "name": "ipython",
    "version": 3
   },
   "file_extension": ".py",
   "mimetype": "text/x-python",
   "name": "python",
   "nbconvert_exporter": "python",
   "pygments_lexer": "ipython3",
   "version": "3.6.1"
  }
 },
 "nbformat": 4,
 "nbformat_minor": 2
}
